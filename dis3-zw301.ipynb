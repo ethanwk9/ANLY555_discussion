{
 "cells": [
  {
   "cell_type": "code",
   "execution_count": 43,
   "metadata": {},
   "outputs": [],
   "source": [
    "# Module 3 discussion: Complexity Analysis\n",
    "from random import random\n",
    "\n",
    "def findMedian(n):\n",
    "    \"\"\"find the median of a list which has n floating point values between 0 and 100\"\"\"\n",
    "    ########## Generating part ##########\n",
    "    # use list to hold the n floating point values between 0 and 100\n",
    "    flist = []\n",
    "    for i in range(n):\n",
    "        # use random() to generate values from 0 and 100, then times 100 to make the range as 0 to 100\n",
    "        flist.append(random() * 100)\n",
    "\n",
    "    ########## Sorting part ##########\n",
    "    # need to sort the list to find the median, use a two pointer approach\n",
    "    for i in range(len(flist)):\n",
    "        for j in range(i + 1, len(flist)):\n",
    "            # compare the ith value and jth value in the list, if the ith value is larger, swap the place of two values in the list\n",
    "            if flist[i] > flist[j]:\n",
    "                flist[i], flist[j] = flist[j], flist[i]\n",
    "\n",
    "    ########## Computing part ##########\n",
    "    # return the median depending on the length of flist\n",
    "    mid = len(flist) // 2\n",
    "    # if flist has odd number of values, return the middle index value\n",
    "    if len(flist) % 2 == 1:\n",
    "        # for testing purposes, return both the list and the median value\n",
    "        return flist, flist[mid]\n",
    "    # if flist has even number of values, return the average of the middle two index values\n",
    "    elif len(flist) % 2 == 0:\n",
    "        return flist, (flist[mid - 1] + flist[mid]) / 2\n",
    "    \n",
    "\n",
    "##########################################################\n",
    "###             Step Count Function T(n)               ###\n",
    "##########################################################\n",
    "# Best case\n",
    "# Generating part: 2n opps\n",
    "# Sorting part: 2n * 2n + 0 opps, in this case the list is already sorted in increasing order\n",
    "# Computing part: 1 opps, just take the required index value/values\n",
    "# This solution will have 4n^2 + 2n + 1 steps, T(n) = O(n^2)\n",
    "\n",
    "# Worst case\n",
    "# Generating part: 2n opps\n",
    "# Sorting part: 2n * 2n + n^2 - 2n opps, in this case the list is in strictly decreasing order\n",
    "# Computing part: 1 opps\n",
    "# This solution will have 5n^2 + 1 steps, T(n) = O(n^2)\n",
    "\n",
    "##########################################################\n",
    "###             Space Count Function S(n)              ###\n",
    "##########################################################\n",
    "# Best case\n",
    "# Generating part: n, the list will have n elements\n",
    "# Sorting part: 1, we are doing in-place editing, so we do not need extra space\n",
    "# Computing part: 1\n",
    "# S(n) = O(n) if accuounting the list space usage, if not, then S(n) = 1\n",
    "\n",
    "# Worst case \n",
    "# Generating part: n, the list will have n elements\n",
    "# Sorting part: 1, we are doing in-place editing, so we do not need extra space\n",
    "# Computing part: 1\n",
    "# S(n) = O(n) if accuounting the list space usage, if not, then S(n) = 1\n",
    "\n",
    "# This soluton is not the most efficient algorithem in finding the median \n",
    "# but I think it is easy to understand and we do not need other data structure other than list.\n",
    "# Also it is intuitive because that would be the way I find the median by hand."
   ]
  },
  {
   "cell_type": "code",
   "execution_count": 44,
   "metadata": {},
   "outputs": [
    {
     "name": "stdout",
     "output_type": "stream",
     "text": [
      "===========================================\n",
      "Odd length case\n",
      "List of n floating points values: [18.565244668623038, 27.499063672694856, 28.215055628534714, 31.324248188798208, 32.05428123079318, 35.87454588405629, 48.06306716406878, 51.524522353612234, 55.27738570796373, 68.09873922243897, 81.67329574137082]\n",
      "The median of the values: 35.87454588405629\n",
      "===========================================\n",
      "Even length case\n",
      "List of n floating points values: [16.621112321210596, 20.244326959872126, 21.021697768309267, 37.49286371255045, 38.31471013118932, 56.69756652900193, 60.347994006540326, 60.72088221767843, 73.60845982788555, 76.10107301232648]\n",
      "The median of the values: 47.506138330095624\n",
      "===========================================\n"
     ]
    }
   ],
   "source": [
    "# Test the function\n",
    "print('===========================================')\n",
    "print('Odd length case')\n",
    "l, med = findMedian(11)\n",
    "print('List of n floating points values:', l)\n",
    "print('The median of the values:', med)\n",
    "print('===========================================')\n",
    "print('Even length case')\n",
    "l, med = findMedian(10)\n",
    "print('List of n floating points values:', l)\n",
    "print('The median of the values:', med)\n",
    "print('===========================================')\n"
   ]
  }
 ],
 "metadata": {
  "kernelspec": {
   "display_name": "Python 3.10.6 ('ANLY590')",
   "language": "python",
   "name": "python3"
  },
  "language_info": {
   "codemirror_mode": {
    "name": "ipython",
    "version": 3
   },
   "file_extension": ".py",
   "mimetype": "text/x-python",
   "name": "python",
   "nbconvert_exporter": "python",
   "pygments_lexer": "ipython3",
   "version": "3.10.6"
  },
  "orig_nbformat": 4,
  "vscode": {
   "interpreter": {
    "hash": "23e4ce433adeecc4de961a4e2d23a303f00b7f78d834a403d478047d555a0275"
   }
  }
 },
 "nbformat": 4,
 "nbformat_minor": 2
}
