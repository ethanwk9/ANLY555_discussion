{
 "cells": [
  {
   "cell_type": "code",
   "execution_count": 74,
   "metadata": {},
   "outputs": [],
   "source": [
    "class SparseMatrix:\n",
    "    def __init__(self, m, n):\n",
    "        \"\"\"Initiate a sparse matrix object with m rows and n columns; use dictionary(self.values) to store the non-zero entries\"\"\"\n",
    "        self.m = m\n",
    "        self.n = n\n",
    "        self.values = {}\n",
    "    \n",
    "    def __str__(self):\n",
    "        \"\"\"return the sparse matrix in tuple representation\"\"\"\n",
    "        # reconstruct a list to hold the sparse matrix in tuple representation\n",
    "        matrix = []\n",
    "        # loop through the dictionary and append any non-zeor entries to the matrix list\n",
    "        for row, col in self.values:\n",
    "            matrix.append((row, col, self.values[row, col]))\n",
    "        return f'The tuple representation of {self.m} by {self.n} sparse matrix (row, column, value): {sorted(matrix)}'\n",
    "    \n",
    "    def __setitem__(self, idx, val):\n",
    "        \"\"\"method to set the value of the sparse matrix at given index\"\"\"\n",
    "        # if idx is int, then it is a vector.\n",
    "        if isinstance(idx, int):\n",
    "            self.values[(0, idx)] = val\n",
    "        elif isinstance(idx, tuple):\n",
    "            # check index range\n",
    "            if (idx[0] > (self.m - 1)) | (idx[1] > (self.n - 1)):\n",
    "                raise IndexError('Index out of range')\n",
    "            else:\n",
    "                # set the given index entry with given value\n",
    "                self.values[(idx[0], idx[1])] = val\n",
    "\n",
    "    def __getitem__(self, idx):\n",
    "        \"\"\"method to return the value of the matrix at given index\"\"\"\n",
    "        if isinstance(idx, int):\n",
    "            return self.values[(0, idx)]\n",
    "        elif isinstance(idx, tuple):\n",
    "            return self.values[(idx[0], idx[1])]\n",
    "\n",
    "    def __add__(self, other):\n",
    "        \"\"\"return the sum of two sparse matrices, assuming that two SparseMatrices (self and other) are compatible for addition, and both are m x n\"\"\"\n",
    "        # initiate a sparse matrix object to hold the sum of two matrices\n",
    "        result = SparseMatrix(self.m, self.n)\n",
    "        # loop through matrix A. If the non-zero entry index also found in matrix B, add the values and save it in matrix result. If not, record the non-zero entry of A in matrix result.\n",
    "        for idx in self.values:\n",
    "            if idx in other.values:\n",
    "                result[idx] = self.values[idx] + other.values[idx]\n",
    "            else:\n",
    "                result[idx] = self.values[idx]\n",
    "        # loop through matrix B. If the non-zero entry index also found in matrix A, continue the next iteration since this addition was completed in above loop. If not, record the non-zero entry of B in matrix result.\n",
    "        for idx in other.values:\n",
    "            if idx in self.values:\n",
    "                continue\n",
    "            else:\n",
    "                result[idx] = other.values[idx]\n",
    "        return result\n"
   ]
  },
  {
   "cell_type": "code",
   "execution_count": 75,
   "metadata": {},
   "outputs": [
    {
     "name": "stdout",
     "output_type": "stream",
     "text": [
      "Sparse matrix A \n",
      " The tuple representation of 20 by 20 sparse matrix (row, column, value): [(0, 0, 1), (4, 12, 2), (15, 19, 3)]\n",
      "Sparse matrix B \n",
      " The tuple representation of 20 by 20 sparse matrix (row, column, value): [(0, 0, 99), (4, 12, 98), (15, 0, 3)]\n",
      "Sparse matrix C \n",
      " The tuple representation of 20 by 20 sparse matrix (row, column, value): [(0, 0, 100), (4, 12, 100), (15, 0, 3), (15, 19, 3)]\n"
     ]
    }
   ],
   "source": [
    "A = SparseMatrix(20, 20)\n",
    "B = SparseMatrix(20, 20)\n",
    "A[0,0] = 1\n",
    "A[4, 12] = 2\n",
    "A[15, 19] = 3\n",
    "print('Sparse matrix A \\n', A)\n",
    "B[0, 0] = 99\n",
    "B[4, 12] = 98\n",
    "B[15, 0] = 3\n",
    "print('Sparse matrix B \\n', B)\n",
    "C = A + B\n",
    "print('Sparse matrix C \\n', C)\n"
   ]
  },
  {
   "cell_type": "code",
   "execution_count": null,
   "metadata": {},
   "outputs": [],
   "source": [
    "# Derive a Step Count Function T(n) and Space Count Function S(n). You can assume the number of non-zero entries in A is a and the number of non-zero entries in B is b.\n",
    "\n",
    "# 1. Step Count Function T(n)\n",
    "                                                                        # Best case     Worst case\n",
    "# def __add__(self, other):\n",
    "#     result = SparseMatrix(self.m, self.n)                             # 1 oop         1 oop         \n",
    "#     for idx in self.values:                                           # a oop         a oop \n",
    "#         if idx in other.values:                                       # 1 oop         b oop\n",
    "#             result[idx] = self.values[idx] + other.values[idx]        #               2 oop\n",
    "#         else:                                                         \n",
    "#             result[idx] = self.values[idx]                            # 2 oop         2 oop\n",
    "#     for idx in other.values:                                          # b oop         b oop\n",
    "#         if idx in self.values:                                        #               1 oop\n",
    "#             continue\n",
    "#         else:                             \n",
    "#             result[idx] = other.values[idx]                           # 2 oop         2 oop\n",
    "#     return result\n",
    "\n",
    "# Best case T(n) = a + b + 6 when the non-zero entries are at different indexes, the count of them is a + b. \n",
    "# so the best case O(n) = a + b\n",
    "# Worst case T(n) = a * b + 8 when the non-zero entries are at the same indexes, the count of them is a * b\n",
    "# so the worst case O(n) = a * b\n",
    "\n",
    "# 2. Space Count Function S(n)\n",
    "# Best case T(n) = a + b when the non-zero entries are at different indexes, the count of them is a + b. \n",
    "# Worst case T(n) = max(a, b) when the non-zero entries are at the same indexes, the count of them is max(a, b).\n",
    "\n",
    "# This is an efficient solution because we are only adding the non-zero entries here instead of looping through the large sparse matrix where adding zeros is trivial.\n",
    "\n"
   ]
  }
 ],
 "metadata": {
  "kernelspec": {
   "display_name": "Python 3.8.9 64-bit",
   "language": "python",
   "name": "python3"
  },
  "language_info": {
   "codemirror_mode": {
    "name": "ipython",
    "version": 3
   },
   "file_extension": ".py",
   "mimetype": "text/x-python",
   "name": "python",
   "nbconvert_exporter": "python",
   "pygments_lexer": "ipython3",
   "version": "3.8.9"
  },
  "orig_nbformat": 4,
  "vscode": {
   "interpreter": {
    "hash": "31f2aee4e71d21fbe5cf8b01ff0e069b9275f58929596ceb00d14d90e3e16cd6"
   }
  }
 },
 "nbformat": 4,
 "nbformat_minor": 2
}
