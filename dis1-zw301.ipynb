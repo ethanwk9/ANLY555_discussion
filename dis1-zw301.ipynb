{
 "cells": [
  {
   "cell_type": "markdown",
   "metadata": {},
   "source": [
    "Discussion.\n",
    "\n",
    "The value of pi can be estimated using the following infinite series:\n",
    "\n",
    "pi/4 = 1 - 1/3 + 1/5 - 1/7 ... \n",
    "\n",
    " \n",
    "\n",
    "1) Write a Python function computePi4(numTerms) that computes this estimate up to iteration numTerms.\n",
    "2) Try the above using comprehension syntax . \n",
    "3) A sequence is a list of objects. Using numTerms as the maximum index into a sequence, one can use computePi4 to compute a sequence to estimate pi/4, where each new number in the sequence is an estimate of pi/4 that \"more closely\" approaches to the actual value. Write a generator function in Python that generates this sequence using a yield statement (for delayed evaluation).  This is similar to #1 except you will be using a yield statement. "
   ]
  },
  {
   "cell_type": "code",
   "execution_count": 84,
   "metadata": {},
   "outputs": [
    {
     "name": "stdout",
     "output_type": "stream",
     "text": [
      "The estimated value of pi/4 for 100000 iterations is 0.7853956633974299\n"
     ]
    }
   ],
   "source": [
    "# 1. Write a Python function computePi4(numTerms) that computes this estimate up to iteration numTerms.\n",
    "def computePi4(numTerms):\n",
    "    # Set the initial estimate of pi4 to 0\n",
    "    pi4 = 0\n",
    "    # create a list of the infinite series\n",
    "    infinite_series = [(1/num) for num in range(1, numTerms*2, 2)]\n",
    "    # enumerate through the series and estimate pi4\n",
    "    for index, num in enumerate(infinite_series):\n",
    "        # if the index(starts at 1) is even, then add the negative of the number in the series to pi4\n",
    "        if (index+1) % 2 == 0:\n",
    "            pi4 += -num\n",
    "        # if the index is odd, then add the positive of the number\n",
    "        else:\n",
    "            pi4 += num\n",
    "    # if the number of terms provided is less then 1, return a error message.\n",
    "    if numTerms <= 0:\n",
    "        print('Insufficient number of terms provided to estimate pi, please enter an integer greater than 0.')\n",
    "    else: \n",
    "        return pi4\n",
    "\n",
    "# estimate the value of pi/4\n",
    "pi4 = computePi4(100000)\n",
    "print(f'The estimated value of pi/4 for 100000 iterations is {pi4}')"
   ]
  },
  {
   "cell_type": "code",
   "execution_count": 85,
   "metadata": {},
   "outputs": [
    {
     "name": "stdout",
     "output_type": "stream",
     "text": [
      "The estimated value of pi/4 for 100000 iterations is 0.7853956633974299\n"
     ]
    }
   ],
   "source": [
    "# 2. Try the above using comprehension syntax. \n",
    "numTerms = 100000\n",
    "pi4 = sum([(1/((num*2)-1)) if (num % 2) else -(1/((num*2)-1)) for num in range(1, numTerms+1)])\n",
    "# estimate the value of pi\n",
    "print(f'The estimated value of pi/4 for 100000 iterations is {pi4}')"
   ]
  },
  {
   "cell_type": "code",
   "execution_count": 1,
   "metadata": {},
   "outputs": [
    {
     "name": "stdout",
     "output_type": "stream",
     "text": [
      "The sequence of estimated value of pi/4 for 50 iterations is [1.0, 0.6666666666666667, 0.8666666666666667, 0.7238095238095239, 0.8349206349206351, 0.7440115440115441, 0.8209346209346211, 0.7542679542679545, 0.8130914836797192, 0.7604599047323508, 0.8080789523513985, 0.7646006914818333, 0.8046006914818333, 0.7675636544447964, 0.802046413065486, 0.769788348549357, 0.8000913788523872, 0.7715199502809587, 0.7985469773079856, 0.77290595166696, 0.797296195569399, 0.7740403816159106, 0.7962626038381329, 0.774986008093452, 0.7953941713587581, 0.7757863282215032, 0.7946542527498051, 0.7764724345679869, 0.7940162942171096, 0.7770671416747368, 0.7934605842976876, 0.7775875684246718, 0.7929721838092871, 0.7780468106749587, 0.7925395642981471, 0.7784550572558936, 0.7921536873928798, 0.7788203540595465, 0.7918073670465595, 0.7791491391984583, 0.7914948182108039, 0.7794466254397195, 0.7912113313220724, 0.7797170784485092, 0.790953033504689, 0.7799640225156781, 0.7907167106877211, 0.7801903948982474, 0.7904996732487628, 0.7803986631477527]\n"
     ]
    }
   ],
   "source": [
    "# 3. A sequence is a list of objects. Using numTerms as the maximum index into a sequence, \n",
    "# one can use computePi4 to compute a sequence to estimate pi/4, where each new number in the sequence is an estimate of pi/4 that \n",
    "# \"more closely\" approaches to the actual value. \n",
    "# Write a generator function in Python that generates this sequence using a yield statement (for delayed evaluation).  This is similar to #1 except you will be using a yield statement. \n",
    "def computePi4(numTerms):\n",
    "    # Set the initial estimate of pi4 to 0\n",
    "    pi4 = 0\n",
    "    # create a list of the infinite series\n",
    "    infinite_series = [(1/num) for num in range(1, numTerms*2, 2)]\n",
    "    # enumerate through the series and estimate pi4\n",
    "    for index, num in enumerate(infinite_series):\n",
    "        # if the index(starts at 1) is even, then add the negative of the number in the series to pi4\n",
    "        if (index+1) % 2 == 0:\n",
    "            pi4 += -num\n",
    "            # use yield statement to generate the sequences of estimated value of pi4\n",
    "            yield pi4\n",
    "        # if the index is odd, then add the positive of the number\n",
    "        else:\n",
    "            pi4 += num\n",
    "            yield pi4\n",
    "    # if the number of terms provided is less then 1, return a error message.\n",
    "    if numTerms <= 0:\n",
    "        print('Insufficient number of terms provided to estimate pi, please enter an integer greater than 0.')\n",
    "\n",
    "# estimate the value of pi\n",
    "print(f'The sequence of estimated value of pi/4 for 50 iterations is {list(computePi4(50))}')"
   ]
  }
 ],
 "metadata": {
  "kernelspec": {
   "display_name": "Python 3.10.6 ('ANLY590')",
   "language": "python",
   "name": "python3"
  },
  "language_info": {
   "codemirror_mode": {
    "name": "ipython",
    "version": 3
   },
   "file_extension": ".py",
   "mimetype": "text/x-python",
   "name": "python",
   "nbconvert_exporter": "python",
   "pygments_lexer": "ipython3",
   "version": "3.10.6"
  },
  "orig_nbformat": 4,
  "vscode": {
   "interpreter": {
    "hash": "23e4ce433adeecc4de961a4e2d23a303f00b7f78d834a403d478047d555a0275"
   }
  }
 },
 "nbformat": 4,
 "nbformat_minor": 2
}
