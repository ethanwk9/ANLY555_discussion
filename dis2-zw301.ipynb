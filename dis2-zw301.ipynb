{
 "cells": [
  {
   "cell_type": "markdown",
   "metadata": {},
   "source": [
    "Discussion.\n",
    "\n",
    "1. Implement a Matrix class that allows for matrix addition and multiplication. Make reasonable and appropriate design decisions and justify them in comments or in the discussion board. (If addition and multiplication are undefined, then throw an exception.)\n",
    "You will implement operator overloading so that the '+' and '*' symbols can be used. \n",
    "2. Implement a Vector class that inherets from the Matrix class. It will inheret addition and multiplication (inner product) but will also have a multiplication method for an outer product (choose an intuitive symbol). (If addition and multiplication are undefined due to size mismatch, then throw an exception.)"
   ]
  },
  {
   "cell_type": "code",
   "execution_count": 1,
   "metadata": {},
   "outputs": [],
   "source": [
    "class Matrix:\n",
    "    def __init__(self, row, col, data):\n",
    "        if len(data) == row * col: #test if the given data length match row*col\n",
    "            self._matrix = []\n",
    "            if isinstance(row, int) & isinstance(col, int): # test if the give col and col count is integer\n",
    "                # construct the 2D array\n",
    "                for i in range(row):\n",
    "                    rowList = []\n",
    "                    for j in range(col):\n",
    "                        rowList.append(data[col * i + j])\n",
    "                    self._matrix.append(rowList)\n",
    "            else:                                  \n",
    "                try:                   # we test if param is iterable\n",
    "                    self._matrix = [[0] * col for r in row]\n",
    "                except TypeError:\n",
    "                    raise TypeError('invalid parameter type')\n",
    "        else:\n",
    "            try:\n",
    "                dim = (len(data) == row * col)\n",
    "                if dim == False:\n",
    "                    raise ValueError('dimensions must agree')\n",
    "            except ValueError:\n",
    "                raise ValueError('dimensions must agree')\n",
    "\n",
    "    def __get_matrix__(self):\n",
    "        \"\"\"return the matrix\"\"\"\n",
    "        return self._matrix\n",
    "\n",
    "    def __len__(self):\n",
    "        \"\"\"Return the row dimension of the matrix.\"\"\"\n",
    "        return len(self._matrix)\n",
    "    \n",
    "    def __col__(self):\n",
    "        \"\"\"Return the col dimension of the matrix\"\"\"\n",
    "        return len(self._matrix[0])\n",
    "\n",
    "    def __getitem__(self, tup):\n",
    "        \"\"\"Return jth coordinate of vector.\"\"\"\n",
    "        i, j = tup\n",
    "        return self._matrix[i][j]\n",
    "\n",
    "    def __setitem__(self, tup, val):\n",
    "        \"\"\"Set jth coordinate of vector to given value.\"\"\"\n",
    "        i, j = tup\n",
    "        self._matrix[i][j] = val\n",
    "    \n",
    "    def __add__(self, other):\n",
    "        \"\"\"return the sum of two matri OR sum of a matrix and a integer or float\"\"\"\n",
    "        if isinstance(other, Matrix):\n",
    "            if (self.__col__() != other.__col__()) | (len(self) != len(other)): # test if the dimensions match\n",
    "                raise ValueError('dimensions must agree')\n",
    "            # perfomr matrix addition\n",
    "            else: \n",
    "                result=Matrix(len(self), self.__col__(), [0]* (len(self)*self.__col__()))\n",
    "                for i in range(len(self)):\n",
    "                    for j in range(self.__col__()):\n",
    "                        result[i,j] = self[i,j] + other[i,j]\n",
    "                return result.__get_matrix__()\n",
    "\n",
    "    def __mul__(self, other):\n",
    "        \"\"\"return the multiplication (inner product) of two matrix OR multiplication of a matrix and a integer or float\"\"\"\n",
    "        if isinstance(other, Matrix):\n",
    "            # check if dimension matches   \n",
    "            if len(self) == 1: #if the row of the matrix is 1, then perfrom vector inner product caculation\n",
    "                if self.__col__() != self.__col__():          # relies on __len__ method\n",
    "                    raise ValueError('dimensions must agree')\n",
    "                result = 0           # start with vector of zeros\n",
    "                for j in range(self.__col__()):\n",
    "                    result += self[0,j] * other[0,j]\n",
    "                return result\n",
    "            \n",
    "            elif (self.__col__() != len(other)):\n",
    "                raise ValueError('dimensions must agree')\n",
    "\n",
    "            # perform 2D matrix inner product\n",
    "            else:\n",
    "                result=Matrix(len(self), other.__col__(), [0]* (len(self)*other.__col__()))\n",
    "                for i in range(len(self)):\n",
    "                    for j in range(other.__col__()):\n",
    "                        result[i,j] = sum(self[i,k]*other[k,j] for k in range(self.__col__()))\n",
    "                return result.__get_matrix__()\n"
   ]
  },
  {
   "cell_type": "code",
   "execution_count": 2,
   "metadata": {},
   "outputs": [
    {
     "name": "stdout",
     "output_type": "stream",
     "text": [
      "a: [[1, 2], [3, 4], [5, 6]]\n",
      "b: [[7, 8], [9, 10], [11, 12]]\n",
      "c: [[7, 8, 9], [10, 11, 12]]\n",
      "a+b: [[8, 10], [12, 14], [16, 18]]\n",
      "a*c: [[27, 30, 33], [61, 68, 75], [95, 106, 117]]\n"
     ]
    }
   ],
   "source": [
    "# test our matrix class, display the matrix, matrix addition and multiplication.\n",
    "a = Matrix(3,2,[1,2,3,4,5,6])\n",
    "b = Matrix(3,2,[7,8,9,10,11,12])\n",
    "c = Matrix(2,3,[7,8,9,10,11,12])\n",
    "print('a:', a.__get_matrix__())\n",
    "print('b:', b.__get_matrix__())\n",
    "print('c:', c.__get_matrix__())\n",
    "print('a+b:', a+b)\n",
    "print('a*c:', a*c)"
   ]
  },
  {
   "cell_type": "code",
   "execution_count": 3,
   "metadata": {},
   "outputs": [
    {
     "ename": "ValueError",
     "evalue": "dimensions must agree",
     "output_type": "error",
     "traceback": [
      "\u001b[0;31m---------------------------------------------------------------------------\u001b[0m",
      "\u001b[0;31mValueError\u001b[0m                                Traceback (most recent call last)",
      "\u001b[1;32m/Users/zihangweng/Desktop/2022_SP/555/discussion/dis2-zw301.ipynb Cell 4\u001b[0m in \u001b[0;36m<cell line: 2>\u001b[0;34m()\u001b[0m\n\u001b[1;32m      <a href='vscode-notebook-cell:/Users/zihangweng/Desktop/2022_SP/555/discussion/dis2-zw301.ipynb#W3sZmlsZQ%3D%3D?line=0'>1</a>\u001b[0m \u001b[39m# test if the error detection in matrix addition works\u001b[39;00m\n\u001b[0;32m----> <a href='vscode-notebook-cell:/Users/zihangweng/Desktop/2022_SP/555/discussion/dis2-zw301.ipynb#W3sZmlsZQ%3D%3D?line=1'>2</a>\u001b[0m a \u001b[39m+\u001b[39;49m c\n",
      "\u001b[1;32m/Users/zihangweng/Desktop/2022_SP/555/discussion/dis2-zw301.ipynb Cell 4\u001b[0m in \u001b[0;36mMatrix.__add__\u001b[0;34m(self, other)\u001b[0m\n\u001b[1;32m     <a href='vscode-notebook-cell:/Users/zihangweng/Desktop/2022_SP/555/discussion/dis2-zw301.ipynb#W3sZmlsZQ%3D%3D?line=48'>49</a>\u001b[0m \u001b[39mif\u001b[39;00m \u001b[39misinstance\u001b[39m(other, Matrix):\n\u001b[1;32m     <a href='vscode-notebook-cell:/Users/zihangweng/Desktop/2022_SP/555/discussion/dis2-zw301.ipynb#W3sZmlsZQ%3D%3D?line=49'>50</a>\u001b[0m     \u001b[39mif\u001b[39;00m (\u001b[39mself\u001b[39m\u001b[39m.\u001b[39m__col__() \u001b[39m!=\u001b[39m other\u001b[39m.\u001b[39m__col__()) \u001b[39m|\u001b[39m (\u001b[39mlen\u001b[39m(\u001b[39mself\u001b[39m) \u001b[39m!=\u001b[39m \u001b[39mlen\u001b[39m(other)): \u001b[39m# test if the dimensions match\u001b[39;00m\n\u001b[0;32m---> <a href='vscode-notebook-cell:/Users/zihangweng/Desktop/2022_SP/555/discussion/dis2-zw301.ipynb#W3sZmlsZQ%3D%3D?line=50'>51</a>\u001b[0m         \u001b[39mraise\u001b[39;00m \u001b[39mValueError\u001b[39;00m(\u001b[39m'\u001b[39m\u001b[39mdimensions must agree\u001b[39m\u001b[39m'\u001b[39m)\n\u001b[1;32m     <a href='vscode-notebook-cell:/Users/zihangweng/Desktop/2022_SP/555/discussion/dis2-zw301.ipynb#W3sZmlsZQ%3D%3D?line=51'>52</a>\u001b[0m     \u001b[39m# perfomr matrix addition\u001b[39;00m\n\u001b[1;32m     <a href='vscode-notebook-cell:/Users/zihangweng/Desktop/2022_SP/555/discussion/dis2-zw301.ipynb#W3sZmlsZQ%3D%3D?line=52'>53</a>\u001b[0m     \u001b[39melse\u001b[39;00m: \n\u001b[1;32m     <a href='vscode-notebook-cell:/Users/zihangweng/Desktop/2022_SP/555/discussion/dis2-zw301.ipynb#W3sZmlsZQ%3D%3D?line=53'>54</a>\u001b[0m         result\u001b[39m=\u001b[39mMatrix(\u001b[39mlen\u001b[39m(\u001b[39mself\u001b[39m), \u001b[39mself\u001b[39m\u001b[39m.\u001b[39m__col__(), [\u001b[39m0\u001b[39m]\u001b[39m*\u001b[39m (\u001b[39mlen\u001b[39m(\u001b[39mself\u001b[39m)\u001b[39m*\u001b[39m\u001b[39mself\u001b[39m\u001b[39m.\u001b[39m__col__()))\n",
      "\u001b[0;31mValueError\u001b[0m: dimensions must agree"
     ]
    }
   ],
   "source": [
    "# test if the error detection in matrix addition works\n",
    "a + c"
   ]
  },
  {
   "cell_type": "code",
   "execution_count": 4,
   "metadata": {},
   "outputs": [
    {
     "ename": "ValueError",
     "evalue": "dimensions must agree",
     "output_type": "error",
     "traceback": [
      "\u001b[0;31m---------------------------------------------------------------------------\u001b[0m",
      "\u001b[0;31mValueError\u001b[0m                                Traceback (most recent call last)",
      "\u001b[1;32m/Users/zihangweng/Desktop/2022_SP/555/discussion/dis2-zw301.ipynb Cell 5\u001b[0m in \u001b[0;36m<cell line: 2>\u001b[0;34m()\u001b[0m\n\u001b[1;32m      <a href='vscode-notebook-cell:/Users/zihangweng/Desktop/2022_SP/555/discussion/dis2-zw301.ipynb#W4sZmlsZQ%3D%3D?line=0'>1</a>\u001b[0m \u001b[39m# test if the error detection in matrix multiplication works\u001b[39;00m\n\u001b[0;32m----> <a href='vscode-notebook-cell:/Users/zihangweng/Desktop/2022_SP/555/discussion/dis2-zw301.ipynb#W4sZmlsZQ%3D%3D?line=1'>2</a>\u001b[0m a \u001b[39m*\u001b[39;49m b\n",
      "\u001b[1;32m/Users/zihangweng/Desktop/2022_SP/555/discussion/dis2-zw301.ipynb Cell 5\u001b[0m in \u001b[0;36mMatrix.__mul__\u001b[0;34m(self, other)\u001b[0m\n\u001b[1;32m     <a href='vscode-notebook-cell:/Users/zihangweng/Desktop/2022_SP/555/discussion/dis2-zw301.ipynb#W4sZmlsZQ%3D%3D?line=69'>70</a>\u001b[0m     \u001b[39mreturn\u001b[39;00m result\n\u001b[1;32m     <a href='vscode-notebook-cell:/Users/zihangweng/Desktop/2022_SP/555/discussion/dis2-zw301.ipynb#W4sZmlsZQ%3D%3D?line=71'>72</a>\u001b[0m \u001b[39melif\u001b[39;00m (\u001b[39mself\u001b[39m\u001b[39m.\u001b[39m__col__() \u001b[39m!=\u001b[39m \u001b[39mlen\u001b[39m(other)):\n\u001b[0;32m---> <a href='vscode-notebook-cell:/Users/zihangweng/Desktop/2022_SP/555/discussion/dis2-zw301.ipynb#W4sZmlsZQ%3D%3D?line=72'>73</a>\u001b[0m     \u001b[39mraise\u001b[39;00m \u001b[39mValueError\u001b[39;00m(\u001b[39m'\u001b[39m\u001b[39mdimensions must agree\u001b[39m\u001b[39m'\u001b[39m)\n\u001b[1;32m     <a href='vscode-notebook-cell:/Users/zihangweng/Desktop/2022_SP/555/discussion/dis2-zw301.ipynb#W4sZmlsZQ%3D%3D?line=74'>75</a>\u001b[0m \u001b[39m# perform 2D matrix inner product\u001b[39;00m\n\u001b[1;32m     <a href='vscode-notebook-cell:/Users/zihangweng/Desktop/2022_SP/555/discussion/dis2-zw301.ipynb#W4sZmlsZQ%3D%3D?line=75'>76</a>\u001b[0m \u001b[39melse\u001b[39;00m:\n\u001b[1;32m     <a href='vscode-notebook-cell:/Users/zihangweng/Desktop/2022_SP/555/discussion/dis2-zw301.ipynb#W4sZmlsZQ%3D%3D?line=76'>77</a>\u001b[0m     result\u001b[39m=\u001b[39mMatrix(\u001b[39mlen\u001b[39m(\u001b[39mself\u001b[39m), other\u001b[39m.\u001b[39m__col__(), [\u001b[39m0\u001b[39m]\u001b[39m*\u001b[39m (\u001b[39mlen\u001b[39m(\u001b[39mself\u001b[39m)\u001b[39m*\u001b[39mother\u001b[39m.\u001b[39m__col__()))\n",
      "\u001b[0;31mValueError\u001b[0m: dimensions must agree"
     ]
    }
   ],
   "source": [
    "# test if the error detection in matrix multiplication works\n",
    "a * b"
   ]
  },
  {
   "cell_type": "code",
   "execution_count": 5,
   "metadata": {},
   "outputs": [],
   "source": [
    "# Implement a Vector class that inherets from the Matrix class. It will inheret addition and multiplication (inner product) \n",
    "# but will also have a multiplication method for an outer product (choose an intuitive symbol). \n",
    "# (If addition and multiplication are undefined due to size mismatch, then throw an exception.)\n",
    "\n",
    "class Vector(Matrix):\n",
    "    def __init__(self, data):\n",
    "        super().__init__(1,len(data),data) # inherit the constructor from the super class 'Matrix'\n",
    "\n",
    "    def __getitem__(self, tup):\n",
    "        \"\"\"Return jth coordinate of vector.\"\"\"\n",
    "        i, j = tup\n",
    "        return self._matrix[0][j]\n",
    "    \n",
    "    def __pow__(self, other):\n",
    "        \"\"\"return the outer product of two vectors.\"\"\"\n",
    "        #Check multiplier type and length compatibility.\n",
    "        if not isinstance(other,Vector):\n",
    "            raise TypeError('variables must be vector instances')\n",
    "        if self.__col__() != other.__col__(): \n",
    "            raise ValueError('dimensions must agree')\n",
    "        result = Matrix(self.__col__(), self.__col__(), [0]*(self.__col__()*self.__col__()))\n",
    "        for i in range(self.__col__()):\n",
    "            for j in range(self.__col__()):\n",
    "                result[i,j] = self[0,i]*other[0,j]\n",
    "        return result.__get_matrix__()\n"
   ]
  },
  {
   "cell_type": "code",
   "execution_count": 6,
   "metadata": {},
   "outputs": [
    {
     "name": "stdout",
     "output_type": "stream",
     "text": [
      "a: [[1, 2, 3]]\n",
      "b: [[4, 5, 6]]\n",
      "a+b: [[5, 7, 9]]\n",
      "a*b: 32\n",
      "a**b: [[4, 5, 6], [8, 10, 12], [12, 15, 18]]\n"
     ]
    }
   ],
   "source": [
    "a = Vector([1,2,3])\n",
    "b = Vector([4,5,6])\n",
    "print('a:', a.__get_matrix__())\n",
    "print('b:', b.__get_matrix__())\n",
    "print('a+b:', a+b)\n",
    "print('a*b:', a*b)\n",
    "print('a**b:', a**b)\n"
   ]
  },
  {
   "cell_type": "code",
   "execution_count": 7,
   "metadata": {},
   "outputs": [
    {
     "ename": "ValueError",
     "evalue": "dimensions must agree",
     "output_type": "error",
     "traceback": [
      "\u001b[0;31m---------------------------------------------------------------------------\u001b[0m",
      "\u001b[0;31mValueError\u001b[0m                                Traceback (most recent call last)",
      "\u001b[1;32m/Users/zihangweng/Desktop/2022_SP/555/discussion/dis2-zw301.ipynb Cell 8\u001b[0m in \u001b[0;36m<cell line: 3>\u001b[0;34m()\u001b[0m\n\u001b[1;32m      <a href='vscode-notebook-cell:/Users/zihangweng/Desktop/2022_SP/555/discussion/dis2-zw301.ipynb#X10sZmlsZQ%3D%3D?line=0'>1</a>\u001b[0m \u001b[39m# test if outer product method dimension error detection works\u001b[39;00m\n\u001b[1;32m      <a href='vscode-notebook-cell:/Users/zihangweng/Desktop/2022_SP/555/discussion/dis2-zw301.ipynb#X10sZmlsZQ%3D%3D?line=1'>2</a>\u001b[0m c \u001b[39m=\u001b[39m Vector([\u001b[39m1\u001b[39m,\u001b[39m2\u001b[39m])\n\u001b[0;32m----> <a href='vscode-notebook-cell:/Users/zihangweng/Desktop/2022_SP/555/discussion/dis2-zw301.ipynb#X10sZmlsZQ%3D%3D?line=2'>3</a>\u001b[0m a \u001b[39m*\u001b[39;49m\u001b[39m*\u001b[39;49m c\n",
      "\u001b[1;32m/Users/zihangweng/Desktop/2022_SP/555/discussion/dis2-zw301.ipynb Cell 8\u001b[0m in \u001b[0;36mVector.__pow__\u001b[0;34m(self, other)\u001b[0m\n\u001b[1;32m     <a href='vscode-notebook-cell:/Users/zihangweng/Desktop/2022_SP/555/discussion/dis2-zw301.ipynb#X10sZmlsZQ%3D%3D?line=17'>18</a>\u001b[0m     \u001b[39mraise\u001b[39;00m \u001b[39mTypeError\u001b[39;00m(\u001b[39m'\u001b[39m\u001b[39mvariables must be vector instances\u001b[39m\u001b[39m'\u001b[39m)\n\u001b[1;32m     <a href='vscode-notebook-cell:/Users/zihangweng/Desktop/2022_SP/555/discussion/dis2-zw301.ipynb#X10sZmlsZQ%3D%3D?line=18'>19</a>\u001b[0m \u001b[39mif\u001b[39;00m \u001b[39mself\u001b[39m\u001b[39m.\u001b[39m__col__() \u001b[39m!=\u001b[39m other\u001b[39m.\u001b[39m__col__(): \n\u001b[0;32m---> <a href='vscode-notebook-cell:/Users/zihangweng/Desktop/2022_SP/555/discussion/dis2-zw301.ipynb#X10sZmlsZQ%3D%3D?line=19'>20</a>\u001b[0m     \u001b[39mraise\u001b[39;00m \u001b[39mValueError\u001b[39;00m(\u001b[39m'\u001b[39m\u001b[39mdimensions must agree\u001b[39m\u001b[39m'\u001b[39m)\n\u001b[1;32m     <a href='vscode-notebook-cell:/Users/zihangweng/Desktop/2022_SP/555/discussion/dis2-zw301.ipynb#X10sZmlsZQ%3D%3D?line=20'>21</a>\u001b[0m result \u001b[39m=\u001b[39m Matrix(\u001b[39mself\u001b[39m\u001b[39m.\u001b[39m__col__(), \u001b[39mself\u001b[39m\u001b[39m.\u001b[39m__col__(), [\u001b[39m0\u001b[39m]\u001b[39m*\u001b[39m(\u001b[39mself\u001b[39m\u001b[39m.\u001b[39m__col__()\u001b[39m*\u001b[39m\u001b[39mself\u001b[39m\u001b[39m.\u001b[39m__col__()))\n\u001b[1;32m     <a href='vscode-notebook-cell:/Users/zihangweng/Desktop/2022_SP/555/discussion/dis2-zw301.ipynb#X10sZmlsZQ%3D%3D?line=21'>22</a>\u001b[0m \u001b[39mfor\u001b[39;00m i \u001b[39min\u001b[39;00m \u001b[39mrange\u001b[39m(\u001b[39mself\u001b[39m\u001b[39m.\u001b[39m__col__()):\n",
      "\u001b[0;31mValueError\u001b[0m: dimensions must agree"
     ]
    }
   ],
   "source": [
    "# test if outer product method dimension error detection works\n",
    "c = Vector([1,2])\n",
    "a ** c"
   ]
  }
 ],
 "metadata": {
  "kernelspec": {
   "display_name": "Python 3.10.6 ('ANLY590')",
   "language": "python",
   "name": "python3"
  },
  "language_info": {
   "codemirror_mode": {
    "name": "ipython",
    "version": 3
   },
   "file_extension": ".py",
   "mimetype": "text/x-python",
   "name": "python",
   "nbconvert_exporter": "python",
   "pygments_lexer": "ipython3",
   "version": "3.10.6"
  },
  "orig_nbformat": 4,
  "vscode": {
   "interpreter": {
    "hash": "23e4ce433adeecc4de961a4e2d23a303f00b7f78d834a403d478047d555a0275"
   }
  }
 },
 "nbformat": 4,
 "nbformat_minor": 2
}
